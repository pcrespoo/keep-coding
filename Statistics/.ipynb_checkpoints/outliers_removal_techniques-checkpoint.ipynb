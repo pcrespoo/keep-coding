{
 "cells": [
  {
   "cell_type": "markdown",
   "metadata": {},
   "source": [
    "## Z-Score\n",
    "- Z-Score represents a way to detect outliers when we have values that lies greater or less than 3 standard deviations"
   ]
  },
  {
   "cell_type": "code",
   "execution_count": 1,
   "metadata": {},
   "outputs": [],
   "source": [
    "import numpy as np"
   ]
  },
  {
   "cell_type": "code",
   "execution_count": 2,
   "metadata": {},
   "outputs": [],
   "source": [
    "data = [11,10,12,15,20,17,18,125,11,14,13,12,120,15,20,25,16,13,120,14,1,5,17,12,17,18,19,20,23,111,190]"
   ]
  },
  {
   "cell_type": "code",
   "execution_count": 3,
   "metadata": {},
   "outputs": [],
   "source": [
    "outliers = []\n",
    "z_scores = []\n",
    "def detect_outlier(data):\n",
    "    th = 3\n",
    "    mean = np.mean(data)\n",
    "    std = np.std(data)\n",
    "    \n",
    "    for i in data:\n",
    "        z_score = (i - mean)/std\n",
    "        z_scores.append(z_score)\n",
    "        if np.abs(z_score)>th:\n",
    "            outliers.append(i)\n",
    "    return outliers"
   ]
  },
  {
   "cell_type": "code",
   "execution_count": 4,
   "metadata": {},
   "outputs": [
    {
     "data": {
      "text/plain": [
       "[190]"
      ]
     },
     "execution_count": 4,
     "metadata": {},
     "output_type": "execute_result"
    }
   ],
   "source": [
    "detect_outlier(data)"
   ]
  },
  {
   "cell_type": "code",
   "execution_count": 5,
   "metadata": {},
   "outputs": [
    {
     "data": {
      "text/plain": [
       "[-0.5082810368801401,\n",
       " -0.530380212396668,\n",
       " -0.4861818613636123,\n",
       " -0.4198843348140288,\n",
       " -0.30938845723138964,\n",
       " -0.3756859837809731,\n",
       " -0.35358680826444533,\n",
       " 2.0110249720040327,\n",
       " -0.5082810368801401,\n",
       " -0.4419835103305566,\n",
       " -0.46408268584708445,\n",
       " -0.4861818613636123,\n",
       " 1.9005290944213935,\n",
       " -0.4198843348140288,\n",
       " -0.30938845723138964,\n",
       " -0.19889257964875048,\n",
       " -0.39778515929750097,\n",
       " -0.46408268584708445,\n",
       " 1.9005290944213935,\n",
       " -0.4419835103305566,\n",
       " -0.7292727920454184,\n",
       " -0.6408760899793071,\n",
       " -0.3756859837809731,\n",
       " -0.4861818613636123,\n",
       " -0.3756859837809731,\n",
       " -0.35358680826444533,\n",
       " -0.3314876327479175,\n",
       " -0.30938845723138964,\n",
       " -0.24309093068180615,\n",
       " 1.701636514772643,\n",
       " 3.447471380578342]"
      ]
     },
     "execution_count": 5,
     "metadata": {},
     "output_type": "execute_result"
    }
   ],
   "source": [
    "z_scores"
   ]
  },
  {
   "cell_type": "markdown",
   "metadata": {},
   "source": [
    "## IQR\n",
    "- Another technique to detect outliers based on the 3rd and 1st percentile\n",
    "- Every value 1.5 times less than the 1st percentile or greater than the 3rd percentiles is considered an outlier"
   ]
  },
  {
   "cell_type": "code",
   "execution_count": 6,
   "metadata": {},
   "outputs": [],
   "source": [
    "low = np.percentile(data,25)\n",
    "high = np.percentile(data,75)"
   ]
  },
  {
   "cell_type": "code",
   "execution_count": 7,
   "metadata": {},
   "outputs": [],
   "source": [
    "iqr = high - low"
   ]
  },
  {
   "cell_type": "code",
   "execution_count": 8,
   "metadata": {},
   "outputs": [],
   "source": [
    "low_cutoff = low - 1.5*iqr\n",
    "high_cutoff = high + 1.5*iqr"
   ]
  },
  {
   "cell_type": "code",
   "execution_count": 9,
   "metadata": {},
   "outputs": [
    {
     "data": {
      "text/plain": [
       "1.25"
      ]
     },
     "execution_count": 9,
     "metadata": {},
     "output_type": "execute_result"
    }
   ],
   "source": [
    "low_cutoff"
   ]
  },
  {
   "cell_type": "code",
   "execution_count": 10,
   "metadata": {},
   "outputs": [
    {
     "data": {
      "text/plain": [
       "31.25"
      ]
     },
     "execution_count": 10,
     "metadata": {},
     "output_type": "execute_result"
    }
   ],
   "source": [
    "high_cutoff"
   ]
  },
  {
   "cell_type": "code",
   "execution_count": 11,
   "metadata": {},
   "outputs": [],
   "source": [
    "data_without_outliers = [i for i in data if (i < high_cutoff and i > low_cutoff)]"
   ]
  },
  {
   "cell_type": "code",
   "execution_count": 12,
   "metadata": {},
   "outputs": [
    {
     "data": {
      "text/plain": [
       "[11,\n",
       " 10,\n",
       " 12,\n",
       " 15,\n",
       " 20,\n",
       " 17,\n",
       " 18,\n",
       " 11,\n",
       " 14,\n",
       " 13,\n",
       " 12,\n",
       " 15,\n",
       " 20,\n",
       " 25,\n",
       " 16,\n",
       " 13,\n",
       " 14,\n",
       " 5,\n",
       " 17,\n",
       " 12,\n",
       " 17,\n",
       " 18,\n",
       " 19,\n",
       " 20,\n",
       " 23]"
      ]
     },
     "execution_count": 12,
     "metadata": {},
     "output_type": "execute_result"
    }
   ],
   "source": [
    "data_without_outliers"
   ]
  }
 ],
 "metadata": {
  "kernelspec": {
   "display_name": "Python 3",
   "language": "python",
   "name": "python3"
  },
  "language_info": {
   "codemirror_mode": {
    "name": "ipython",
    "version": 3
   },
   "file_extension": ".py",
   "mimetype": "text/x-python",
   "name": "python",
   "nbconvert_exporter": "python",
   "pygments_lexer": "ipython3",
   "version": "3.7.4"
  }
 },
 "nbformat": 4,
 "nbformat_minor": 4
}
